{
 "cells": [
  {
   "cell_type": "markdown",
   "metadata": {},
   "source": [
    "# Pandas 1"
   ]
  },
  {
   "cell_type": "code",
   "execution_count": null,
   "metadata": {},
   "outputs": [],
   "source": [
    "import pandas as pd\n",
    "used_vehicles = pd.read_csv(\"project1/car details v4.csv\")"
   ]
  },
  {
   "cell_type": "markdown",
   "metadata": {},
   "source": [
    "### set and reset indexm, get first or last rows"
   ]
  },
  {
   "cell_type": "code",
   "execution_count": null,
   "metadata": {},
   "outputs": [],
   "source": [
    "used_vehicles.set_index(\"Make\") # set index as the maker\n",
    "used_vehicles.reset_index(inplace=True) # reset the index\n",
    "used_vehicles.head(3) # get the first 3 rows\n",
    "used_vehicles.tail(100) # get the last 100 rows"
   ]
  },
  {
   "cell_type": "markdown",
   "metadata": {},
   "source": [
    "### Use .loc to extract unique data"
   ]
  },
  {
   "cell_type": "code",
   "execution_count": null,
   "metadata": {},
   "outputs": [],
   "source": [
    "\n",
    "used_vehicles.loc[[0, 100, 1000], \"Model\"] # 0th, 100th, 1000th vehicles' model name\n",
    "used_vehicles.loc[0:3, \"Year\"] # 0 to 3rd vehicles' manufactered date (inclusive)\n",
    "used_vehicles.loc[0:3, :] # every data of 0 to 3rd vehicles (inclusive)\n",
    "used_vehicles.loc[100:200, [\"Make\", \"Model\", \"Price\"]] # 100th to 200th vehicles' data of maker, model, and price"
   ]
  },
  {
   "cell_type": "markdown",
   "metadata": {},
   "source": [
    "### Use .iloc to extrac unique data"
   ]
  },
  {
   "cell_type": "code",
   "execution_count": null,
   "metadata": {},
   "outputs": [],
   "source": [
    "used_vehicles_index_false = pd.read_csv(\"project1/car details v4.csv\", index_col = False) # get rid of index column\n",
    "used_vehicles_index_false.iloc[0:5] # same as slicing (last implement exclusive)\n",
    "used_vehicles_index_false.iloc[0: 20, 0: 3]"
   ]
  },
  {
   "cell_type": "markdown",
   "metadata": {},
   "source": [
    "# Use context-dependent Extraction by using []"
   ]
  },
  {
   "cell_type": "code",
   "execution_count": null,
   "metadata": {},
   "outputs": [],
   "source": [
    "used_vehicles_index_false[0: 4] # get first four rows\n",
    "used_vehicles_index_false[[\"Price\", \"Kilometer\", \"Location\"]] # get every vehicle's price, kilometer, and location"
   ]
  }
 ],
 "metadata": {
  "kernelspec": {
   "display_name": ".venv",
   "language": "python",
   "name": "python3"
  },
  "language_info": {
   "codemirror_mode": {
    "name": "ipython",
    "version": 3
   },
   "file_extension": ".py",
   "mimetype": "text/x-python",
   "name": "python",
   "nbconvert_exporter": "python",
   "pygments_lexer": "ipython3",
   "version": "3.13.2"
  }
 },
 "nbformat": 4,
 "nbformat_minor": 2
}
