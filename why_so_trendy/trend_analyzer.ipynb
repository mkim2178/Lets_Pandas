{
 "cells": [
  {
   "cell_type": "markdown",
   "id": "ddd42165",
   "metadata": {},
   "source": [
    "# Which YouTube videos got so trend?\n",
    "### Let's analyze YouTube's trending videos. According to Google (https://support.google.com/youtube/answer/7239739?hl=en), trending videos can be determined by following considerations:\n",
    "    * view count\n",
    "    * temperature (how fast the video generates views)\n",
    "    * the source of views (where views are coming from, including the outside of youtube)\n",
    "    * the age of video (the upload date)\n",
    "    * the video's performace compared to other recent videos from the same channel\n",
    "\n",
    "### We can use this specific dataset to analyze the characteristics of trending videos:\n",
    "### Data Source: https://www.kaggle.com/datasets/rsrishav/youtube-trending-video-dataset?select=US_youtube_trending_data.csv\n",
    "### IMPORTANT: The timeline of these trending videos are from 2020 to 2024."
   ]
  },
  {
   "cell_type": "code",
   "execution_count": 2,
   "id": "1b9a61d1",
   "metadata": {},
   "outputs": [
    {
     "data": {
      "text/html": [
       "<div>\n",
       "<style scoped>\n",
       "    .dataframe tbody tr th:only-of-type {\n",
       "        vertical-align: middle;\n",
       "    }\n",
       "\n",
       "    .dataframe tbody tr th {\n",
       "        vertical-align: top;\n",
       "    }\n",
       "\n",
       "    .dataframe thead th {\n",
       "        text-align: right;\n",
       "    }\n",
       "</style>\n",
       "<table border=\"1\" class=\"dataframe\">\n",
       "  <thead>\n",
       "    <tr style=\"text-align: right;\">\n",
       "      <th></th>\n",
       "      <th>video_id</th>\n",
       "      <th>title</th>\n",
       "      <th>publishedAt</th>\n",
       "      <th>channelId</th>\n",
       "      <th>channelTitle</th>\n",
       "      <th>categoryId</th>\n",
       "      <th>trending_date</th>\n",
       "      <th>tags</th>\n",
       "      <th>view_count</th>\n",
       "      <th>likes</th>\n",
       "      <th>dislikes</th>\n",
       "      <th>comment_count</th>\n",
       "      <th>thumbnail_link</th>\n",
       "      <th>comments_disabled</th>\n",
       "      <th>ratings_disabled</th>\n",
       "      <th>description</th>\n",
       "    </tr>\n",
       "  </thead>\n",
       "  <tbody>\n",
       "    <tr>\n",
       "      <th>0</th>\n",
       "      <td>3C66w5Z0ixs</td>\n",
       "      <td>I ASKED HER TO BE MY GIRLFRIEND...</td>\n",
       "      <td>2020-08-11T19:20:14Z</td>\n",
       "      <td>UCvtRTOMP2TqYqu51xNrqAzg</td>\n",
       "      <td>Brawadis</td>\n",
       "      <td>22</td>\n",
       "      <td>2020-08-12T00:00:00Z</td>\n",
       "      <td>brawadis|prank|basketball|skits|ghost|funny vi...</td>\n",
       "      <td>1514614</td>\n",
       "      <td>156908</td>\n",
       "      <td>5855</td>\n",
       "      <td>35313</td>\n",
       "      <td>https://i.ytimg.com/vi/3C66w5Z0ixs/default.jpg</td>\n",
       "      <td>False</td>\n",
       "      <td>False</td>\n",
       "      <td>SUBSCRIBE to BRAWADIS ▶ http://bit.ly/Subscrib...</td>\n",
       "    </tr>\n",
       "    <tr>\n",
       "      <th>1</th>\n",
       "      <td>M9Pmf9AB4Mo</td>\n",
       "      <td>Apex Legends | Stories from the Outlands – “Th...</td>\n",
       "      <td>2020-08-11T17:00:10Z</td>\n",
       "      <td>UC0ZV6M2THA81QT9hrVWJG3A</td>\n",
       "      <td>Apex Legends</td>\n",
       "      <td>20</td>\n",
       "      <td>2020-08-12T00:00:00Z</td>\n",
       "      <td>Apex Legends|Apex Legends characters|new Apex ...</td>\n",
       "      <td>2381688</td>\n",
       "      <td>146739</td>\n",
       "      <td>2794</td>\n",
       "      <td>16549</td>\n",
       "      <td>https://i.ytimg.com/vi/M9Pmf9AB4Mo/default.jpg</td>\n",
       "      <td>False</td>\n",
       "      <td>False</td>\n",
       "      <td>While running her own modding shop, Ramya Pare...</td>\n",
       "    </tr>\n",
       "    <tr>\n",
       "      <th>2</th>\n",
       "      <td>J78aPJ3VyNs</td>\n",
       "      <td>I left youtube for a month and THIS is what ha...</td>\n",
       "      <td>2020-08-11T16:34:06Z</td>\n",
       "      <td>UCYzPXprvl5Y-Sf0g4vX-m6g</td>\n",
       "      <td>jacksepticeye</td>\n",
       "      <td>24</td>\n",
       "      <td>2020-08-12T00:00:00Z</td>\n",
       "      <td>jacksepticeye|funny|funny meme|memes|jacksepti...</td>\n",
       "      <td>2038853</td>\n",
       "      <td>353787</td>\n",
       "      <td>2628</td>\n",
       "      <td>40221</td>\n",
       "      <td>https://i.ytimg.com/vi/J78aPJ3VyNs/default.jpg</td>\n",
       "      <td>False</td>\n",
       "      <td>False</td>\n",
       "      <td>I left youtube for a month and this is what ha...</td>\n",
       "    </tr>\n",
       "    <tr>\n",
       "      <th>3</th>\n",
       "      <td>kXLn3HkpjaA</td>\n",
       "      <td>XXL 2020 Freshman Class Revealed - Official An...</td>\n",
       "      <td>2020-08-11T16:38:55Z</td>\n",
       "      <td>UCbg_UMjlHJg_19SZckaKajg</td>\n",
       "      <td>XXL</td>\n",
       "      <td>10</td>\n",
       "      <td>2020-08-12T00:00:00Z</td>\n",
       "      <td>xxl freshman|xxl freshmen|2020 xxl freshman|20...</td>\n",
       "      <td>496771</td>\n",
       "      <td>23251</td>\n",
       "      <td>1856</td>\n",
       "      <td>7647</td>\n",
       "      <td>https://i.ytimg.com/vi/kXLn3HkpjaA/default.jpg</td>\n",
       "      <td>False</td>\n",
       "      <td>False</td>\n",
       "      <td>Subscribe to XXL → http://bit.ly/subscribe-xxl...</td>\n",
       "    </tr>\n",
       "    <tr>\n",
       "      <th>4</th>\n",
       "      <td>VIUo6yapDbc</td>\n",
       "      <td>Ultimate DIY Home Movie Theater for The LaBran...</td>\n",
       "      <td>2020-08-11T15:10:05Z</td>\n",
       "      <td>UCDVPcEbVLQgLZX0Rt6jo34A</td>\n",
       "      <td>Mr. Kate</td>\n",
       "      <td>26</td>\n",
       "      <td>2020-08-12T00:00:00Z</td>\n",
       "      <td>The LaBrant Family|DIY|Interior Design|Makeove...</td>\n",
       "      <td>1123889</td>\n",
       "      <td>45802</td>\n",
       "      <td>964</td>\n",
       "      <td>2196</td>\n",
       "      <td>https://i.ytimg.com/vi/VIUo6yapDbc/default.jpg</td>\n",
       "      <td>False</td>\n",
       "      <td>False</td>\n",
       "      <td>Transforming The LaBrant Family's empty white ...</td>\n",
       "    </tr>\n",
       "  </tbody>\n",
       "</table>\n",
       "</div>"
      ],
      "text/plain": [
       "      video_id                                              title  \\\n",
       "0  3C66w5Z0ixs                 I ASKED HER TO BE MY GIRLFRIEND...   \n",
       "1  M9Pmf9AB4Mo  Apex Legends | Stories from the Outlands – “Th...   \n",
       "2  J78aPJ3VyNs  I left youtube for a month and THIS is what ha...   \n",
       "3  kXLn3HkpjaA  XXL 2020 Freshman Class Revealed - Official An...   \n",
       "4  VIUo6yapDbc  Ultimate DIY Home Movie Theater for The LaBran...   \n",
       "\n",
       "            publishedAt                 channelId   channelTitle  categoryId  \\\n",
       "0  2020-08-11T19:20:14Z  UCvtRTOMP2TqYqu51xNrqAzg       Brawadis          22   \n",
       "1  2020-08-11T17:00:10Z  UC0ZV6M2THA81QT9hrVWJG3A   Apex Legends          20   \n",
       "2  2020-08-11T16:34:06Z  UCYzPXprvl5Y-Sf0g4vX-m6g  jacksepticeye          24   \n",
       "3  2020-08-11T16:38:55Z  UCbg_UMjlHJg_19SZckaKajg            XXL          10   \n",
       "4  2020-08-11T15:10:05Z  UCDVPcEbVLQgLZX0Rt6jo34A       Mr. Kate          26   \n",
       "\n",
       "          trending_date                                               tags  \\\n",
       "0  2020-08-12T00:00:00Z  brawadis|prank|basketball|skits|ghost|funny vi...   \n",
       "1  2020-08-12T00:00:00Z  Apex Legends|Apex Legends characters|new Apex ...   \n",
       "2  2020-08-12T00:00:00Z  jacksepticeye|funny|funny meme|memes|jacksepti...   \n",
       "3  2020-08-12T00:00:00Z  xxl freshman|xxl freshmen|2020 xxl freshman|20...   \n",
       "4  2020-08-12T00:00:00Z  The LaBrant Family|DIY|Interior Design|Makeove...   \n",
       "\n",
       "   view_count   likes  dislikes  comment_count  \\\n",
       "0     1514614  156908      5855          35313   \n",
       "1     2381688  146739      2794          16549   \n",
       "2     2038853  353787      2628          40221   \n",
       "3      496771   23251      1856           7647   \n",
       "4     1123889   45802       964           2196   \n",
       "\n",
       "                                   thumbnail_link  comments_disabled  \\\n",
       "0  https://i.ytimg.com/vi/3C66w5Z0ixs/default.jpg              False   \n",
       "1  https://i.ytimg.com/vi/M9Pmf9AB4Mo/default.jpg              False   \n",
       "2  https://i.ytimg.com/vi/J78aPJ3VyNs/default.jpg              False   \n",
       "3  https://i.ytimg.com/vi/kXLn3HkpjaA/default.jpg              False   \n",
       "4  https://i.ytimg.com/vi/VIUo6yapDbc/default.jpg              False   \n",
       "\n",
       "   ratings_disabled                                        description  \n",
       "0             False  SUBSCRIBE to BRAWADIS ▶ http://bit.ly/Subscrib...  \n",
       "1             False  While running her own modding shop, Ramya Pare...  \n",
       "2             False  I left youtube for a month and this is what ha...  \n",
       "3             False  Subscribe to XXL → http://bit.ly/subscribe-xxl...  \n",
       "4             False  Transforming The LaBrant Family's empty white ...  "
      ]
     },
     "execution_count": 2,
     "metadata": {},
     "output_type": "execute_result"
    }
   ],
   "source": [
    "import pandas as pd\n",
    "import numpy as np\n",
    "import seaborn as sns\n",
    "import matplotlib.pyplot as plt\n",
    "\n",
    "youtube_trend = pd.read_csv(\"US_youtube_trending_data.csv\")\n",
    "youtube_trend.head()"
   ]
  },
  {
   "cell_type": "markdown",
   "id": "2a74fad5",
   "metadata": {},
   "source": [
    "Convert the 'publishedAt' and 'trending_date' to the datetime object\n",
    "\n",
    "By using `.to_datetime()`, we can convert the time data (that are stored in string) to the datetime object. The datetime object is more flexible to handle data that are related to date and time. We use this function to our \"publishedAt\" and \"trending_date\" columns."
   ]
  },
  {
   "cell_type": "code",
   "execution_count": 3,
   "id": "534f1fa4",
   "metadata": {},
   "outputs": [
    {
     "data": {
      "text/plain": [
       "0   2020-08-11 19:20:14+00:00\n",
       "1   2020-08-11 17:00:10+00:00\n",
       "2   2020-08-11 16:34:06+00:00\n",
       "3   2020-08-11 16:38:55+00:00\n",
       "4   2020-08-11 15:10:05+00:00\n",
       "Name: publishedAt, dtype: datetime64[ns, UTC]"
      ]
     },
     "metadata": {},
     "output_type": "display_data"
    },
    {
     "data": {
      "text/plain": [
       "0   2020-08-12 00:00:00+00:00\n",
       "1   2020-08-12 00:00:00+00:00\n",
       "2   2020-08-12 00:00:00+00:00\n",
       "3   2020-08-12 00:00:00+00:00\n",
       "4   2020-08-12 00:00:00+00:00\n",
       "Name: trending_date, dtype: datetime64[ns, UTC]"
      ]
     },
     "metadata": {},
     "output_type": "display_data"
    }
   ],
   "source": [
    "youtube_trend[\"publishedAt\"] = pd.to_datetime(youtube_trend[\"publishedAt\"])\n",
    "youtube_trend[\"trending_date\"] = pd.to_datetime(youtube_trend[\"trending_date\"])\n",
    "display(youtube_trend[\"publishedAt\"].head())\n",
    "display(youtube_trend[\"trending_date\"].head())"
   ]
  },
  {
   "cell_type": "markdown",
   "id": "c32b3738",
   "metadata": {},
   "source": [
    "Since the 'trending_date' has no exact __time__ data, we can get rid of the 00:00:00+00:00. By using the `dt` accessor (provided by pandas), we call the `.date` function to use only the date."
   ]
  },
  {
   "cell_type": "code",
   "execution_count": 4,
   "id": "bbaec058",
   "metadata": {},
   "outputs": [
    {
     "data": {
      "text/plain": [
       "0         2020-08-12\n",
       "1         2020-08-12\n",
       "2         2020-08-12\n",
       "3         2020-08-12\n",
       "4         2020-08-12\n",
       "             ...    \n",
       "268782    2024-04-15\n",
       "268783    2024-04-15\n",
       "268784    2024-04-15\n",
       "268785    2024-04-15\n",
       "268786    2024-04-15\n",
       "Name: trending_date, Length: 268787, dtype: object"
      ]
     },
     "execution_count": 4,
     "metadata": {},
     "output_type": "execute_result"
    }
   ],
   "source": [
    "youtube_trend[\"trending_date\"] = youtube_trend[\"trending_date\"].dt.date\n",
    "youtube_trend[\"trending_date\"]"
   ]
  },
  {
   "cell_type": "markdown",
   "id": "18b0f635",
   "metadata": {},
   "source": [
    "Which video stayed in the trending category the longest?\n",
    "\n",
    "Lets visualize the top 10 longest remained videos in the trending category.\n",
    "\n",
    "We can count the `video_id` columns and sort by descending order (Counting by the `video_id` column is equivalent to measuring how many days each video remained).\n",
    "\n",
    "Then, we can use the bar plot to display the distribution of the `video_id` column because it's a qualitative (and also a nominal) variable."
   ]
  },
  {
   "cell_type": "code",
   "execution_count": 5,
   "id": "c498540c",
   "metadata": {},
   "outputs": [
    {
     "data": {
      "image/png": "[encoded data removed]",
      "text/plain": [
       "<Figure size 640x480 with 1 Axes>"
      ]
     },
     "metadata": {},
     "output_type": "display_data"
    }
   ],
   "source": [
    "top_ten_videos = youtube_trend[\"video_id\"].value_counts()[0:10]\n",
    "plt.bar(top_ten_videos.index, top_ten_videos)\n",
    "plt.xticks(rotation=45) # rotate labels from the x-axis to avoid overlapping labels\n",
    "plt.xlabel(\"Video ID\")\n",
    "plt.ylabel(\"Count\");"
   ]
  },
  {
   "cell_type": "markdown",
   "id": "684d319c",
   "metadata": {},
   "source": [
    "Watch the YouTube video that have remained in the trending category for 37 days!\n",
    "https://www.youtube.com/watch?v=tnTPaLOaHz8"
   ]
  },
  {
   "cell_type": "markdown",
   "id": "a9b38363",
   "metadata": {},
   "source": [
    "Now lets get top 5 trending videos that received the most amount of comments in that moment (the moment when video got into the trending category).\n",
    "\n",
    "Let's group the dataset by `video_id`, aggregate the data using the `max` function on the `comment_count` column, and sort the results by `comment_count` in descending order. Then, visualize the `title`, `channelTitle`, annd `comment_count` columns.\n",
    "\n",
    "Use `.iloc` to get the top 5 videos."
   ]
  },
  {
   "cell_type": "code",
   "execution_count": 6,
   "id": "c64c569f",
   "metadata": {},
   "outputs": [
    {
     "data": {
      "text/html": [
       "<div>\n",
       "<style scoped>\n",
       "    .dataframe tbody tr th:only-of-type {\n",
       "        vertical-align: middle;\n",
       "    }\n",
       "\n",
       "    .dataframe tbody tr th {\n",
       "        vertical-align: top;\n",
       "    }\n",
       "\n",
       "    .dataframe thead th {\n",
       "        text-align: right;\n",
       "    }\n",
       "</style>\n",
       "<table border=\"1\" class=\"dataframe\">\n",
       "  <thead>\n",
       "    <tr style=\"text-align: right;\">\n",
       "      <th></th>\n",
       "      <th>title</th>\n",
       "      <th>channelTitle</th>\n",
       "      <th>comment_count</th>\n",
       "    </tr>\n",
       "    <tr>\n",
       "      <th>video_id</th>\n",
       "      <th></th>\n",
       "      <th></th>\n",
       "      <th></th>\n",
       "    </tr>\n",
       "  </thead>\n",
       "  <tbody>\n",
       "    <tr>\n",
       "      <th>WMweEpGlu_U</th>\n",
       "      <td>BTS (방탄소년단) 'Butter' Official MV</td>\n",
       "      <td>HYBE LABELS</td>\n",
       "      <td>6738537</td>\n",
       "    </tr>\n",
       "    <tr>\n",
       "      <th>gdZLi9oWNZg</th>\n",
       "      <td>BTS (방탄소년단) 'Dynamite' Official MV</td>\n",
       "      <td>Big Hit Labels</td>\n",
       "      <td>6065230</td>\n",
       "    </tr>\n",
       "    <tr>\n",
       "      <th>-5q5mZbe3V8</th>\n",
       "      <td>BTS (방탄소년단) 'Life Goes On' Official MV</td>\n",
       "      <td>Big Hit Labels</td>\n",
       "      <td>4160903</td>\n",
       "    </tr>\n",
       "    <tr>\n",
       "      <th>gQlMMD8auMs</th>\n",
       "      <td>BLACKPINK - ‘Pink Venom’ M/V</td>\n",
       "      <td>BLACKPINK</td>\n",
       "      <td>3534337</td>\n",
       "    </tr>\n",
       "    <tr>\n",
       "      <th>2L6gsn7rGqI</th>\n",
       "      <td>GAME  (Full Video)  Shooter Kahlon | Sidhu Moo...</td>\n",
       "      <td>5911 Records</td>\n",
       "      <td>3431431</td>\n",
       "    </tr>\n",
       "  </tbody>\n",
       "</table>\n",
       "</div>"
      ],
      "text/plain": [
       "                                                         title  \\\n",
       "video_id                                                         \n",
       "WMweEpGlu_U                   BTS (방탄소년단) 'Butter' Official MV   \n",
       "gdZLi9oWNZg                 BTS (방탄소년단) 'Dynamite' Official MV   \n",
       "-5q5mZbe3V8             BTS (방탄소년단) 'Life Goes On' Official MV   \n",
       "gQlMMD8auMs                       BLACKPINK - ‘Pink Venom’ M/V   \n",
       "2L6gsn7rGqI  GAME  (Full Video)  Shooter Kahlon | Sidhu Moo...   \n",
       "\n",
       "               channelTitle  comment_count  \n",
       "video_id                                    \n",
       "WMweEpGlu_U     HYBE LABELS        6738537  \n",
       "gdZLi9oWNZg  Big Hit Labels        6065230  \n",
       "-5q5mZbe3V8  Big Hit Labels        4160903  \n",
       "gQlMMD8auMs       BLACKPINK        3534337  \n",
       "2L6gsn7rGqI    5911 Records        3431431  "
      ]
     },
     "execution_count": 6,
     "metadata": {},
     "output_type": "execute_result"
    }
   ],
   "source": [
    "top_five_videos_with_most_comments = youtube_trend.groupby(\"video_id\")[[\"title\", \"channelTitle\", \"comment_count\"]].agg(\"max\").sort_values(by=\"comment_count\", ascending=False).iloc[:5, :]\n",
    "top_five_videos_with_most_comments"
   ]
  },
  {
   "cell_type": "markdown",
   "id": "9865b59f",
   "metadata": {},
   "source": [
    "Create a bar plot (x-axis: channelTitle, y-axis: comment_count)"
   ]
  },
  {
   "cell_type": "code",
   "execution_count": 7,
   "id": "2bab1dc6",
   "metadata": {},
   "outputs": [
    {
     "data": {
      "text/plain": [
       "<Axes: xlabel='channelTitle', ylabel='comment_count'>"
      ]
     },
     "execution_count": 7,
     "metadata": {},
     "output_type": "execute_result"
    },
    {
     "data": {
      "image/png": "[encoded data removed]",
      "text/plain": [
       "<Figure size 640x480 with 1 Axes>"
      ]
     },
     "metadata": {},
     "output_type": "display_data"
    }
   ],
   "source": [
    "sns.barplot(data = top_five_videos_with_most_comments, x = 'channelTitle', y = 'comment_count')"
   ]
  },
  {
   "cell_type": "markdown",
   "id": "165edda8",
   "metadata": {},
   "source": [
    "We only got 4 bars because we have duplicate `channelTitle` values. The `.barplot` will aggregate the values and by default, it shows the mean of those two `comment_count`s. The gray colored bar is the convidence interval (CI) of the corresponding `channelTitle` values (this is a Seaborn's default behaviour)"
   ]
  },
  {
   "cell_type": "code",
   "execution_count": 8,
   "id": "549680dc",
   "metadata": {},
   "outputs": [
    {
     "name": "stdout",
     "output_type": "stream",
     "text": [
      "268787\n"
     ]
    },
    {
     "data": {
      "text/html": [
       "<div>\n",
       "<style scoped>\n",
       "    .dataframe tbody tr th:only-of-type {\n",
       "        vertical-align: middle;\n",
       "    }\n",
       "\n",
       "    .dataframe tbody tr th {\n",
       "        vertical-align: top;\n",
       "    }\n",
       "\n",
       "    .dataframe thead th {\n",
       "        text-align: right;\n",
       "    }\n",
       "</style>\n",
       "<table border=\"1\" class=\"dataframe\">\n",
       "  <thead>\n",
       "    <tr style=\"text-align: right;\">\n",
       "      <th></th>\n",
       "      <th>title</th>\n",
       "      <th>tag_count</th>\n",
       "    </tr>\n",
       "  </thead>\n",
       "  <tbody>\n",
       "    <tr>\n",
       "      <th>258311</th>\n",
       "      <td>J.Y. Park, Stray Kids, ITZY, NMIXX - Like Magi...</td>\n",
       "      <td>78</td>\n",
       "    </tr>\n",
       "    <tr>\n",
       "      <th>258548</th>\n",
       "      <td>J.Y. Park, Stray Kids, ITZY, NMIXX - Like Magi...</td>\n",
       "      <td>78</td>\n",
       "    </tr>\n",
       "    <tr>\n",
       "      <th>258050</th>\n",
       "      <td>J.Y. Park, Stray Kids, ITZY, NMIXX - Like Magi...</td>\n",
       "      <td>78</td>\n",
       "    </tr>\n",
       "    <tr>\n",
       "      <th>258783</th>\n",
       "      <td>J.Y. Park, Stray Kids, ITZY, NMIXX - Like Magi...</td>\n",
       "      <td>78</td>\n",
       "    </tr>\n",
       "    <tr>\n",
       "      <th>258978</th>\n",
       "      <td>J.Y. Park, Stray Kids, ITZY, NMIXX - Like Magi...</td>\n",
       "      <td>78</td>\n",
       "    </tr>\n",
       "    <tr>\n",
       "      <th>...</th>\n",
       "      <td>...</td>\n",
       "      <td>...</td>\n",
       "    </tr>\n",
       "    <tr>\n",
       "      <th>93311</th>\n",
       "      <td>Try to not get caught in the photo 📸 #roblox</td>\n",
       "      <td>1</td>\n",
       "    </tr>\n",
       "    <tr>\n",
       "      <th>93316</th>\n",
       "      <td>Introducing the Icelandverse</td>\n",
       "      <td>1</td>\n",
       "    </tr>\n",
       "    <tr>\n",
       "      <th>93325</th>\n",
       "      <td>The Dead South - People Are Strange [Official ...</td>\n",
       "      <td>1</td>\n",
       "    </tr>\n",
       "    <tr>\n",
       "      <th>93327</th>\n",
       "      <td>The Ice Age Adventures of Buck Wild | Teaser T...</td>\n",
       "      <td>1</td>\n",
       "    </tr>\n",
       "    <tr>\n",
       "      <th>93330</th>\n",
       "      <td>Mark Tuan - Last Breath (Official Music Video)</td>\n",
       "      <td>1</td>\n",
       "    </tr>\n",
       "  </tbody>\n",
       "</table>\n",
       "<p>268787 rows × 2 columns</p>\n",
       "</div>"
      ],
      "text/plain": [
       "                                                    title  tag_count\n",
       "258311  J.Y. Park, Stray Kids, ITZY, NMIXX - Like Magi...         78\n",
       "258548  J.Y. Park, Stray Kids, ITZY, NMIXX - Like Magi...         78\n",
       "258050  J.Y. Park, Stray Kids, ITZY, NMIXX - Like Magi...         78\n",
       "258783  J.Y. Park, Stray Kids, ITZY, NMIXX - Like Magi...         78\n",
       "258978  J.Y. Park, Stray Kids, ITZY, NMIXX - Like Magi...         78\n",
       "...                                                   ...        ...\n",
       "93311        Try to not get caught in the photo 📸 #roblox          1\n",
       "93316                        Introducing the Icelandverse          1\n",
       "93325   The Dead South - People Are Strange [Official ...          1\n",
       "93327   The Ice Age Adventures of Buck Wild | Teaser T...          1\n",
       "93330      Mark Tuan - Last Breath (Official Music Video)          1\n",
       "\n",
       "[268787 rows x 2 columns]"
      ]
     },
     "execution_count": 8,
     "metadata": {},
     "output_type": "execute_result"
    }
   ],
   "source": [
    "tags_lst = youtube_trend[\"tags\"].str.split('|').values\n",
    "\n",
    "count_tags = []\n",
    "\n",
    "for tags in tags_lst:\n",
    "    count_tags.append(len(tags))\n",
    "\n",
    "print(len(count_tags))\n",
    "\n",
    "title_and_tag_number = pd.DataFrame({\"title\": youtube_trend[\"title\"],\n",
    "                                     \"tag_count\": count_tags})\n",
    "\n",
    "title_and_tag_number.sort_values(by=\"tag_count\", ascending=False)\n"
   ]
  },
  {
   "cell_type": "markdown",
   "id": "7f84eed8",
   "metadata": {},
   "source": [
    "### Let's analyze how many videos that each channel have created and went into the trending video category.\n",
    "\n",
    "We first need to group up every video by `video_id` because of the duplicates. Some videos remained multiple days (even a month!) we need to group up by `video_id` and count each of the video to get rid of the duplicates. The `.size` of this `Series` is the actual number of videos (we have 47142 unique videos on this dataset)."
   ]
  },
  {
   "cell_type": "markdown",
   "id": "013cd1f6",
   "metadata": {},
   "source": [
    "# ---------------------------------still working on analyzing the number videos per channel title---------------------------------"
   ]
  },
  {
   "cell_type": "code",
   "execution_count": 78,
   "id": "2b0862b5",
   "metadata": {},
   "outputs": [
    {
     "data": {
      "text/html": [
       "<div>\n",
       "<style scoped>\n",
       "    .dataframe tbody tr th:only-of-type {\n",
       "        vertical-align: middle;\n",
       "    }\n",
       "\n",
       "    .dataframe tbody tr th {\n",
       "        vertical-align: top;\n",
       "    }\n",
       "\n",
       "    .dataframe thead th {\n",
       "        text-align: right;\n",
       "    }\n",
       "</style>\n",
       "<table border=\"1\" class=\"dataframe\">\n",
       "  <thead>\n",
       "    <tr style=\"text-align: right;\">\n",
       "      <th></th>\n",
       "      <th>Number of Videos</th>\n",
       "    </tr>\n",
       "    <tr>\n",
       "      <th>channelTitle</th>\n",
       "      <th></th>\n",
       "    </tr>\n",
       "  </thead>\n",
       "  <tbody>\n",
       "    <tr>\n",
       "      <th>NFL</th>\n",
       "      <td>1793</td>\n",
       "    </tr>\n",
       "    <tr>\n",
       "      <th>NBA</th>\n",
       "      <td>1489</td>\n",
       "    </tr>\n",
       "    <tr>\n",
       "      <th>MrBeast</th>\n",
       "      <td>1127</td>\n",
       "    </tr>\n",
       "    <tr>\n",
       "      <th>NBC Sports</th>\n",
       "      <td>802</td>\n",
       "    </tr>\n",
       "    <tr>\n",
       "      <th>Dude Perfect</th>\n",
       "      <td>699</td>\n",
       "    </tr>\n",
       "  </tbody>\n",
       "</table>\n",
       "</div>"
      ],
      "text/plain": [
       "              Number of Videos\n",
       "channelTitle                  \n",
       "NFL                       1793\n",
       "NBA                       1489\n",
       "MrBeast                   1127\n",
       "NBC Sports                 802\n",
       "Dude Perfect               699"
      ]
     },
     "execution_count": 78,
     "metadata": {},
     "output_type": "execute_result"
    }
   ],
   "source": [
    "channelTitle_and_count = youtube_trend[\"channelTitle\"].value_counts(ascending=False)\n",
    "top_100_channel_by_video_count= pd.DataFrame({\"Number of Videos\": channelTitle_and_count.values}, index = channelTitle_and_count.index)[0:100]\n",
    "\n",
    "top_100_channel_by_video_count.head()"
   ]
  },
  {
   "cell_type": "code",
   "execution_count": 79,
   "id": "09b000d2",
   "metadata": {},
   "outputs": [
    {
     "data": {
      "image/png": "[encoded data removed]",
      "text/plain": [
       "<Figure size 640x480 with 1 Axes>"
      ]
     },
     "metadata": {},
     "output_type": "display_data"
    }
   ],
   "source": [
    "sns.boxplot(data=top_100_channel_by_video_count, y=\"Number of Videos\");"
   ]
  },
  {
   "cell_type": "code",
   "execution_count": 80,
   "id": "35895d92",
   "metadata": {},
   "outputs": [
    {
     "data": {
      "image/png": "[encoded data removed]",
      "text/plain": [
       "<Figure size 640x480 with 1 Axes>"
      ]
     },
     "metadata": {},
     "output_type": "display_data"
    }
   ],
   "source": [
    "sns.violinplot(data=top_100_channel_by_video_count, y=\"Number of Videos\");"
   ]
  },
  {
   "cell_type": "code",
   "execution_count": 81,
   "id": "ed475f83",
   "metadata": {},
   "outputs": [
    {
     "data": {
      "image/png": "[encoded data removed]",
      "text/plain": [
       "<Figure size 640x480 with 1 Axes>"
      ]
     },
     "metadata": {},
     "output_type": "display_data"
    }
   ],
   "source": [
    "sns.histplot(data=top_100_channel_by_video_count, x=\"Number of Videos\", stat=\"density\")\n",
    "plt.title(\"Distribution of the number of videos per channel\");"
   ]
  }
 ],
 "metadata": {
  "kernelspec": {
   "display_name": ".venv",
   "language": "python",
   "name": "python3"
  },
  "language_info": {
   "codemirror_mode": {
    "name": "ipython",
    "version": 3
   },
   "file_extension": ".py",
   "mimetype": "text/x-python",
   "name": "python",
   "nbconvert_exporter": "python",
   "pygments_lexer": "ipython3",
   "version": "3.13.2"
  }
 },
 "nbformat": 4,
 "nbformat_minor": 5
}
