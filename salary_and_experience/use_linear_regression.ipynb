{
 "cells": [
  {
   "cell_type": "markdown",
   "id": "c01c705a",
   "metadata": {},
   "source": [
    "# Use linear regression to find the relationship between the salary and the year experience.\n",
    "Data Source: https://www.kaggle.com/datasets/abhishek14398/salary-dataset-simple-linear-regression"
   ]
  },
  {
   "cell_type": "markdown",
   "id": "c86b4b13",
   "metadata": {},
   "source": [
    "### Select a Model\n",
    "\n",
    "Let's use a Simple Linear Regression (SLR) model.\n",
    "\n",
    "We can express the SLR in this mathematical expression: \n",
    "$$ \\hat{y_i} = \\theta_0 + \\theta_1x_i$$\n",
    "\n",
    "- $\\theta_0$: the term of a intercept\n",
    "- $\\theta_1$: the term of a slope\n",
    "\n",
    "Since we want to create an efficient model, we are going to choose values for $\\theta_0, \\theta_1$ that can accurately predict the output variable. The most optimzied parameters can be defined by $\\hat{\\theta_0}$ and $\\hat{\\theta_1}$:\n",
    "\n",
    "$$\\hat{\\theta_0} = \\bar{y} - \\hat{\\theta_1}\\bar{x}$$\n",
    "$$\\hat{\\theta_1} = r\\frac{\\sigma_y}{\\sigma_x}$$"
   ]
  },
  {
   "cell_type": "markdown",
   "id": "b187d927",
   "metadata": {},
   "source": [
    "### Select a Loss Function\n",
    "\n",
    "We can now choose a loss function to find the best line that describes the relationship between the amount of year experience and the salary.\n",
    "\n",
    "In this case, we will use the squared loss (L2 loss) as a loss function. Since, it squares the difference between the observed $y_i$ and the predicted $\\hat{y_i}$, it can penalize large size errors.\n",
    "\n",
    "$$L(y_i, \\hat{y_i}) = (y_i - \\hat{y_i})^2$$\n",
    "\n",
    "To apply on the entire dataset, we calculate the average loss across all data points: we call this a cost function:\n",
    "\n",
    "$$\\hat{R}(\\theta) = \\frac{1}{n}\\sum_{i=1}^nL(y_i, \\hat{y_i})$$\n",
    "\n",
    "This is called the __Mean Squared Error (MSE)__ and it will be used as a standard loss function."
   ]
  },
  {
   "cell_type": "markdown",
   "id": "3ae12f61",
   "metadata": {},
   "source": [
    "### Fit the Model\n",
    "\n",
    "Since we select the model and a loss function, it's time to choose the bset set of model parameters that can minimize the model (this is called fitting).\n",
    "\n",
    "1. We partial derivative the cost function on both $\\theta_0$ and $\\theta_1$.\n",
    "\n",
    "$$\\frac{\\partial}{\\partial\\theta_0}MSE = \\frac{-2}{n}\\sum_{i=1}^n(y_i - \\theta_0 - \\theta_1x_i)$$\n",
    "\n",
    "$$\\frac{\\partial}{\\partial\\theta_1}MSE = \\frac{-2}{n}\\sum_{i=1}^n(y_i - \\theta_0 - \\theta_1x_i)x_i$$\n",
    "\n",
    "2. Then we set the derivatives equal to 0.\n",
    "\n",
    "* $\\hat{y_i} = \\theta_0 + \\theta_1x_i$\n",
    "\n",
    "* $\\frac{\\partial}{\\partial\\theta_0}MSE = \\frac{-2}{n}\\sum_{i=1}^n(y_i - \\theta_0 - \\theta_1x_i) = 0$\n",
    "$$\\frac{1}{n}\\sum_{i=1}^n(y_i - \\hat{y_i}) = 0$$\n",
    "\n",
    "* $\\frac{\\partial}{\\partial\\theta_1}MSE = \\frac{-2}{n}\\sum_{i=1}^n(y_i - \\theta_0 - \\theta_1x_i)x_i$\n",
    "\n",
    "$$\\frac{1}{n}\\sum_{i=1}^n(y_i - \\hat{y_i})x_i = 0$$\n",
    "\n",
    "3. Finally, we solve these equations to get the estimates of $\\hat{\\theta_0}$ and $\\hat{\\theta_1}$.\n",
    "\n",
    "$$\\frac{\\partial}{\\partial\\theta_0}MSE = \\frac{-2}{n}\\sum_{i=1}^n(y_i - \\theta_0 - \\theta_1x_i) = 0$$\n",
    "\n",
    "The sum of $y_i$ divide by $n$ is $\\bar{y}$ and the sum of $x_i$ divide by $n$ is $\\bar{x}$. $n\\hat{\\theta_0}$ divide by $n$ is just $\\hat{\\theta_0}$.  Therefore, the estimate of $\\hat{\\theta_0}$:\n",
    "\n",
    "$$\\hat{\\theta_0} = \\bar{y} - \\hat{\\theta_1}\\bar{x}$$\n",
    "\n",
    "Now let's solve for the $\\hat{\\theta_1}$:\n",
    "\n",
    "We first multiply the first equation by $\\bar{x}$ and subtract from the second equation:\n",
    "\n",
    "$$\\frac{1}{n}\\sum_{i=1}^n(y_i - \\hat{y_i})x_i - \\frac{1}{n}\\sum_{i=1}^n(y_i - \\hat{y_i})\\bar{x} = 0$$\n",
    "\n",
    "Group by $(y_i - \\hat{y_i})$ and plug in the $\\hat{y_i} = \\bar{y} + \\hat{\\theta_i}(x_i - \\bar{x})$:\n",
    "\n",
    "$$\\frac{1}{n}\\sum_{i=1}^n(y_i - \\bar{y} - \\hat{\\theta_1}(x - \\bar{x}))(x_i - \\bar{x}) = 0$$\n",
    "\n",
    "Solve by $\\hat{\\theta_1}$:\n",
    "\n",
    "$$\\frac{1}{n}\\sum_{i=1}^n(y_i - \\bar{y})(x_i - \\bar{x}) = \\hat{\\theta_1} * \\frac{1}{n}\\sum_{i=1}^n(x_i - \\bar{x})^2$$\n",
    "\n",
    "Substitute by correlation: $r$, and standard deviation of x: $\\sigma{x}$\n",
    "\n",
    "$$r\\sigma_x\\sigma_y = \\hat{\\theta_1} * \\sigma^2_x$$\n",
    "\n",
    "$$\\hat{\\theta_1} = r\\frac{\\sigma_x}{\\sigma_y}\n"
   ]
  },
  {
   "cell_type": "markdown",
   "id": "469340f9",
   "metadata": {},
   "source": [
    "### Now we evaluate the SLR model\n",
    "\n",
    "Let's first plot the original data and compute each variable's mean and sd. If predictions' means and standard deviations are close to the original observed $y_i$'s, we can say that the model has been generated correctly. We also can calculate the correlation $r$ to check if our model is done well."
   ]
  },
  {
   "cell_type": "code",
   "execution_count": 1,
   "id": "659295db",
   "metadata": {},
   "outputs": [
    {
     "data": {
      "text/html": [
       "<div>\n",
       "<style scoped>\n",
       "    .dataframe tbody tr th:only-of-type {\n",
       "        vertical-align: middle;\n",
       "    }\n",
       "\n",
       "    .dataframe tbody tr th {\n",
       "        vertical-align: top;\n",
       "    }\n",
       "\n",
       "    .dataframe thead th {\n",
       "        text-align: right;\n",
       "    }\n",
       "</style>\n",
       "<table border=\"1\" class=\"dataframe\">\n",
       "  <thead>\n",
       "    <tr style=\"text-align: right;\">\n",
       "      <th></th>\n",
       "      <th>Unnamed: 0</th>\n",
       "      <th>YearsExperience</th>\n",
       "      <th>Salary</th>\n",
       "    </tr>\n",
       "  </thead>\n",
       "  <tbody>\n",
       "    <tr>\n",
       "      <th>0</th>\n",
       "      <td>0</td>\n",
       "      <td>1.2</td>\n",
       "      <td>39344.0</td>\n",
       "    </tr>\n",
       "    <tr>\n",
       "      <th>1</th>\n",
       "      <td>1</td>\n",
       "      <td>1.4</td>\n",
       "      <td>46206.0</td>\n",
       "    </tr>\n",
       "    <tr>\n",
       "      <th>2</th>\n",
       "      <td>2</td>\n",
       "      <td>1.6</td>\n",
       "      <td>37732.0</td>\n",
       "    </tr>\n",
       "    <tr>\n",
       "      <th>3</th>\n",
       "      <td>3</td>\n",
       "      <td>2.1</td>\n",
       "      <td>43526.0</td>\n",
       "    </tr>\n",
       "    <tr>\n",
       "      <th>4</th>\n",
       "      <td>4</td>\n",
       "      <td>2.3</td>\n",
       "      <td>39892.0</td>\n",
       "    </tr>\n",
       "  </tbody>\n",
       "</table>\n",
       "</div>"
      ],
      "text/plain": [
       "   Unnamed: 0  YearsExperience   Salary\n",
       "0           0              1.2  39344.0\n",
       "1           1              1.4  46206.0\n",
       "2           2              1.6  37732.0\n",
       "3           3              2.1  43526.0\n",
       "4           4              2.3  39892.0"
      ]
     },
     "execution_count": 1,
     "metadata": {},
     "output_type": "execute_result"
    }
   ],
   "source": [
    "import pandas as pd\n",
    "import numpy as np\n",
    "import matplotlib.pyplot as plt\n",
    "import seaborn as sns\n",
    "\n",
    "experience_salary = pd.read_csv(\"Salary_dataset.csv\")\n",
    "experience_salary.head()"
   ]
  },
  {
   "cell_type": "code",
   "execution_count": 2,
   "id": "767ae204",
   "metadata": {},
   "outputs": [],
   "source": [
    "# remove the \"Unnnamed: 0\" column\n",
    "experience_salary = experience_salary.drop(\"Unnamed: 0\", axis=\"columns\")"
   ]
  },
  {
   "cell_type": "code",
   "execution_count": 3,
   "id": "1f59976e",
   "metadata": {},
   "outputs": [
    {
     "data": {
      "text/html": [
       "<div>\n",
       "<style scoped>\n",
       "    .dataframe tbody tr th:only-of-type {\n",
       "        vertical-align: middle;\n",
       "    }\n",
       "\n",
       "    .dataframe tbody tr th {\n",
       "        vertical-align: top;\n",
       "    }\n",
       "\n",
       "    .dataframe thead th {\n",
       "        text-align: right;\n",
       "    }\n",
       "</style>\n",
       "<table border=\"1\" class=\"dataframe\">\n",
       "  <thead>\n",
       "    <tr style=\"text-align: right;\">\n",
       "      <th></th>\n",
       "      <th>YearsExperience</th>\n",
       "      <th>Salary</th>\n",
       "    </tr>\n",
       "  </thead>\n",
       "  <tbody>\n",
       "    <tr>\n",
       "      <th>0</th>\n",
       "      <td>1.2</td>\n",
       "      <td>39344.0</td>\n",
       "    </tr>\n",
       "    <tr>\n",
       "      <th>1</th>\n",
       "      <td>1.4</td>\n",
       "      <td>46206.0</td>\n",
       "    </tr>\n",
       "    <tr>\n",
       "      <th>2</th>\n",
       "      <td>1.6</td>\n",
       "      <td>37732.0</td>\n",
       "    </tr>\n",
       "    <tr>\n",
       "      <th>3</th>\n",
       "      <td>2.1</td>\n",
       "      <td>43526.0</td>\n",
       "    </tr>\n",
       "    <tr>\n",
       "      <th>4</th>\n",
       "      <td>2.3</td>\n",
       "      <td>39892.0</td>\n",
       "    </tr>\n",
       "  </tbody>\n",
       "</table>\n",
       "</div>"
      ],
      "text/plain": [
       "   YearsExperience   Salary\n",
       "0              1.2  39344.0\n",
       "1              1.4  46206.0\n",
       "2              1.6  37732.0\n",
       "3              2.1  43526.0\n",
       "4              2.3  39892.0"
      ]
     },
     "execution_count": 3,
     "metadata": {},
     "output_type": "execute_result"
    }
   ],
   "source": [
    "experience_salary.head()"
   ]
  },
  {
   "cell_type": "markdown",
   "id": "103b5595",
   "metadata": {},
   "source": [
    "Let's create a scatter plot to analyze the dataset.  "
   ]
  },
  {
   "cell_type": "code",
   "execution_count": 4,
   "id": "4e70c4f4",
   "metadata": {},
   "outputs": [
    {
     "data": {
      "text/plain": [
       "<Axes: xlabel='YearsExperience', ylabel='Salary'>"
      ]
     },
     "execution_count": 4,
     "metadata": {},
     "output_type": "execute_result"
    },
    {
     "data": {
      "image/png": "[encoded data removed]",
      "text/plain": [
       "<Figure size 640x480 with 1 Axes>"
      ]
     },
     "metadata": {},
     "output_type": "display_data"
    }
   ],
   "source": [
    "sns.scatterplot(data=experience_salary, x=\"YearsExperience\", y=\"Salary\")"
   ]
  },
  {
   "cell_type": "markdown",
   "id": "f9ff212f",
   "metadata": {},
   "source": [
    "Seems our dataset looks linear...Let's plot a regression line of best fit.\n",
    "\n",
    "We need some helper functions to compute our prediction.\n",
    "\n",
    "To create a regression line...\n",
    "1. slope = correlation * (sd of y / sd of x)\n",
    "2. y-intercept = mean of y - slope * mean of x\n",
    "3. regression estimate = y-intercept + slope * x"
   ]
  },
  {
   "cell_type": "markdown",
   "id": "f570ddd7",
   "metadata": {},
   "source": [
    "standard unit: to convert our $x_i$ (original unit) to standard unit, subtract the mean of $x$ and divide by the sd of $x$:\n",
    "\n",
    "$$\\frac{x_i - \\bar{x}}{\\sigma_x}$$\n",
    "\n",
    "correlation: the average of the product of x and y (they are measured in standard units)\n",
    "\n",
    "$$r = \\frac{1}{n}\\sum_{i=1}^n(\\frac{x_i - \\bar{x}}{\\sigma_x})(\\frac{y_i - \\bar{y}}{\\sigma_y})$$\n",
    "\n",
    "slope: the slope of our regression line is the product of correlation and the division of sd of y and sd of x\n",
    "\n",
    "$$slope = r * \\frac{\\sigma_y}{\\sigma_x}$$\n",
    "\n",
    "intercept: it's a difference between the average of y and the product of slope and the average of x\n",
    "\n",
    "$$intercept = \\sigma_y - slope * \\sigma_x$$\n",
    "\n",
    "linear regression model: the model that we will use (we should select the best set of model parameters that can minimize)\n",
    "* $\\theta_0$: intercept\n",
    "* $\\theta_1$: slope\n",
    "\n",
    "$$\\hat{y_i} = \\theta_0 + \\theta_1x_i$$\n",
    "\n",
    "cost function (with using L2 loss as a loss function): our cost function will use a L2 loss -> now we call it __Mean Squared Error (MSE)__\n",
    "\n",
    "$$\\hat{R}(\\theta) = \\frac{1}{n}\\sum_{i=1}^nL(y_i, \\hat{y_i})$$\n"
   ]
  },
  {
   "cell_type": "code",
   "execution_count": 5,
   "id": "ab02b28b",
   "metadata": {},
   "outputs": [],
   "source": [
    "def convert_to_standard_unit(x):\n",
    "    return (x - np.mean(x)) / np.std(x)\n",
    "\n",
    "def correlation(x, y):\n",
    "    return np.mean(convert_to_standard_unit(x) * convert_to_standard_unit(y))\n",
    "\n",
    "def slope(x, y):\n",
    "    return correlation(x, y) * np.std(y) / np.std(x)\n",
    "\n",
    "def intercept(x, y):\n",
    "    return np.mean(y) - slope(x, y) * np.mean(x)\n",
    "\n",
    "def theta_zero_and_one(x, y):\n",
    "    theta_0 = intercept(x, y)\n",
    "    theta_1 = slope(x, y)\n",
    "    return theta_0, theta_1\n",
    "\n",
    "def regression_model(x, theta_0, theta_1):\n",
    "    return theta_0 + theta_1 * x\n",
    "\n",
    "def MSE(y, y_hat):\n",
    "    return np.mean((y - y_hat) ** 2)\n",
    "\n",
    "def show_every_evaluation(x, y, theta_0, theta_1, y_hat):\n",
    "    print(\"Average of x:\", np.mean(x), \"Average of y:\", np.mean(y))\n",
    "    print(\"Standard Deviation of x:\", np.std(x), \"Standard Deviation of y:\", np.std(y))\n",
    "    print(\"Correlation of x and y:\", correlation(x, y))\n",
    "    print(\"theta_0:\", theta_0, \"theta_1:\", theta_1)\n",
    "    print(\"y_hat =\", theta_0, \"+\", theta_1, \"* x\")\n",
    "    print(\"RMSE (root mean squared error):\", MSE(y, y_hat) ** (1 / 2))"
   ]
  },
  {
   "cell_type": "markdown",
   "id": "5310680f",
   "metadata": {},
   "source": [
    "### Now let's visualize our prediction as a regression line into our scatterplot"
   ]
  },
  {
   "cell_type": "code",
   "execution_count": 6,
   "id": "111460f3",
   "metadata": {},
   "outputs": [
    {
     "name": "stdout",
     "output_type": "stream",
     "text": [
      "Average of x: 5.413333333333332 Average of y: 76004.0\n",
      "Standard Deviation of x: 2.790189161249745 Standard Deviation of y: 26953.65024877583\n",
      "Correlation of x and y: 0.9782416184887598\n",
      "theta_0: 24848.2039665232 theta_1: 9449.962321455076\n",
      "y_hat = 24848.2039665232 + 9449.962321455076 * x\n",
      "RMSE (root mean squared error): 5592.04360876066\n"
     ]
    },
    {
     "data": {
      "text/plain": [
       "None"
      ]
     },
     "metadata": {},
     "output_type": "display_data"
    },
    {
     "data": {
      "image/png": "[encoded data removed]",
      "text/plain": [
       "<Figure size 640x480 with 1 Axes>"
      ]
     },
     "metadata": {},
     "output_type": "display_data"
    }
   ],
   "source": [
    "x = experience_salary[\"YearsExperience\"]\n",
    "y = experience_salary[\"Salary\"]\n",
    "\n",
    "theta_0, theta_1 = theta_zero_and_one(x, y)\n",
    "y_hat = regression_model(x, theta_0, theta_1)\n",
    "sns.regplot(x=\"YearsExperience\", y=\"Salary\", data=experience_salary)\n",
    "display(show_every_evaluation(x, y, theta_0, theta_1, y_hat))"
   ]
  },
  {
   "cell_type": "markdown",
   "id": "221e83f1",
   "metadata": {},
   "source": [
    "### Let's analyze our model's residuals.\n",
    "We can generate a residual plot of $e_i = y_i - \\hat{y_i}$ to check the difference between the original and predict values. \n",
    "\n",
    "If our residual plot does not show any pattern with $x_i$ and $e_i$, our linear model fits the data well."
   ]
  },
  {
   "cell_type": "code",
   "execution_count": 7,
   "id": "01620762",
   "metadata": {},
   "outputs": [
    {
     "data": {
      "image/png": "[encoded data removed]",
      "text/plain": [
       "<Figure size 640x480 with 1 Axes>"
      ]
     },
     "metadata": {},
     "output_type": "display_data"
    }
   ],
   "source": [
    "plt.scatter(x, y - y_hat)\n",
    "plt.axhline(y=0, color='red', linestyle='-') # plot a residual line\n",
    "plt.title('Residual Plot')\n",
    "plt.xlabel('$x_i$')\n",
    "plt.ylabel('$e_i$')\n",
    "plt.show()"
   ]
  },
  {
   "cell_type": "markdown",
   "id": "78d90d4d",
   "metadata": {},
   "source": [
    "### Great! There is no pattern on our Residual Plot so our model is a good fit!"
   ]
  }
 ],
 "metadata": {
  "kernelspec": {
   "display_name": ".venv",
   "language": "python",
   "name": "python3"
  },
  "language_info": {
   "codemirror_mode": {
    "name": "ipython",
    "version": 3
   },
   "file_extension": ".py",
   "mimetype": "text/x-python",
   "name": "python",
   "nbconvert_exporter": "python",
   "pygments_lexer": "ipython3",
   "version": "3.13.2"
  }
 },
 "nbformat": 4,
 "nbformat_minor": 5
}
